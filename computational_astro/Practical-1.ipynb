{
 "cells": [
  {
   "cell_type": "markdown",
   "metadata": {},
   "source": [
    "# Practical 1\n",
    "\n",
    "Week 1: 23-27 August 2021\n",
    "\n",
    "Basic python syntax, and loops line if and for, and basic plotting"
   ]
  },
  {
   "cell_type": "markdown",
   "metadata": {},
   "source": [
    "======================================================="
   ]
  },
  {
   "cell_type": "code",
   "execution_count": null,
   "metadata": {
    "collapsed": true
   },
   "outputs": [],
   "source": []
  },
  {
   "cell_type": "markdown",
   "metadata": {},
   "source": [
    "Example 1:  Mean and standard deviation \n",
    "\n",
    "a) Generate an array from 0 to 100 (including both numbers) with a separation of 0.1. i.e the output should look like [0, 0.2, 0.4, ...., 100]\n",
    "\n",
    "b) Write a function that will find the mean of an array. Use it on the array generated above. Compare its result with NumPy mean function.\n",
    "\n",
    "c) Write a function that will find the standard deviation of an array. Use it on the array generated above. Compare its result with NumPy.std function."
   ]
  },
  {
   "cell_type": "code",
   "execution_count": null,
   "metadata": {
    "collapsed": true
   },
   "outputs": [],
   "source": []
  },
  {
   "cell_type": "markdown",
   "metadata": {},
   "source": [
    "Example 2:  Ordering an array \n",
    "\n",
    "a) Generate a random array having ten elements having values between 0 to 100. Use NumPy random.choice function. \n",
    "\n",
    "b) Write a function that will order the array in ascending and descending order\n",
    "\n",
    "c) Modify the above function to also provide the median of the array."
   ]
  },
  {
   "cell_type": "code",
   "execution_count": null,
   "metadata": {
    "collapsed": true
   },
   "outputs": [],
   "source": []
  },
  {
   "cell_type": "markdown",
   "metadata": {},
   "source": [
    "Example 3:  Exponential \n",
    "\n",
    "Write a function that will return the exponential of the input numbers. Make sure that the results have accuracy better than 0.1%. Compare it with the results of numpy.exp function."
   ]
  },
  {
   "cell_type": "code",
   "execution_count": null,
   "metadata": {
    "collapsed": true
   },
   "outputs": [],
   "source": []
  },
  {
   "cell_type": "markdown",
   "metadata": {},
   "source": [
    "Example 4: Matrix multiplication\n",
    "\n",
    "a) Create two different 3x3 matrices using numpy and multiply those with numpy.dot function.\n",
    "\n",
    "b) Write a function that will multiply any two 3x3 matrices. Test it using your two matrices and their product as calculated above. "
   ]
  },
  {
   "cell_type": "code",
   "execution_count": null,
   "metadata": {
    "collapsed": true
   },
   "outputs": [],
   "source": []
  },
  {
   "cell_type": "markdown",
   "metadata": {},
   "source": [
    "Example 5: Histogram Plot\n",
    "\n",
    "a) Create an array having Gaussian distributed numbers with sigma = 20 and mean = 100. Use numpy.random.normal function.  \n",
    "\n",
    "b) Make a scatter plot of that array\n",
    "\n",
    "c) Write a function to bin the data. Use those bins to plot a histogram (without using any custom histogram functions).  "
   ]
  }
 ],
 "metadata": {
  "kernelspec": {
   "display_name": "Python 3",
   "language": "python",
   "name": "python3"
  },
  "language_info": {
   "codemirror_mode": {
    "name": "ipython",
    "version": 3
   },
   "file_extension": ".py",
   "mimetype": "text/x-python",
   "name": "python",
   "nbconvert_exporter": "python",
   "pygments_lexer": "ipython3",
   "version": "3.6.8"
  }
 },
 "nbformat": 4,
 "nbformat_minor": 2
}
