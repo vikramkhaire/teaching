{
 "cells": [
  {
   "cell_type": "markdown",
   "metadata": {},
   "source": [
    "# Singular value decomposition\n",
    "\n",
    "-Vikram Khaire (date 13 Sept 2021)"
   ]
  },
  {
   "cell_type": "markdown",
   "metadata": {},
   "source": [
    "### Basics \n",
    "\n",
    "* Eigenvalues and eigenvectors\n",
    "\n",
    "$A \\vec{v} = \\lambda \\vec{v}$\n",
    "\n",
    "$(A - \\lambda I) \\vec{v} = 0$\n",
    "\n"
   ]
  },
  {
   "cell_type": "markdown",
   "metadata": {},
   "source": [
    "Solution: \n",
    "\n",
    "det $(A - \\lambda I) = 0$"
   ]
  },
  {
   "cell_type": "markdown",
   "metadata": {},
   "source": [
    "* Eigendecomposition of matrix\n",
    "\n",
    "$A = Q \\Lambda Q^{-1}$\n",
    "\n",
    "$\\Lambda_ {ii} =  \\lambda _{i}$\n",
    "\n",
    "what is Q matrix?"
   ]
  },
  {
   "cell_type": "markdown",
   "metadata": {},
   "source": [
    "\n",
    "$A \\vec{v} = \\lambda \\vec{v}$\n",
    "\n",
    "$A Q = Q \\Lambda$ "
   ]
  },
  {
   "cell_type": "markdown",
   "metadata": {},
   "source": [
    "## singular value decomposition (SVD)\n",
    "\n",
    "$A = U \\Sigma V^{T}$\n",
    "\n",
    "A: mxn\n",
    "\n",
    "U: mxm (unitary / orthogonal)\n",
    "\n",
    "$\\Sigma$:  mxn (rectangular diagonal)\n",
    "\n",
    "V$^T$: nxn (unitary / orthogonal)\n"
   ]
  },
  {
   "cell_type": "markdown",
   "metadata": {},
   "source": [
    "<img src=\"SVD-1.jpg\">"
   ]
  },
  {
   "cell_type": "markdown",
   "metadata": {},
   "source": [
    "## An example to show how important is the SVD\n",
    "\n",
    "from https://www.geeksforgeeks.org/image-reconstruction-using-singular-value-decomposition-svd-in-python/\n",
    "\n",
    "<img src=\"pic_svd.jpg\">"
   ]
  },
  {
   "cell_type": "code",
   "execution_count": null,
   "metadata": {
    "collapsed": true
   },
   "outputs": [],
   "source": []
  }
 ],
 "metadata": {
  "kernelspec": {
   "display_name": "Python 3",
   "language": "python",
   "name": "python3"
  },
  "language_info": {
   "codemirror_mode": {
    "name": "ipython",
    "version": 3
   },
   "file_extension": ".py",
   "mimetype": "text/x-python",
   "name": "python",
   "nbconvert_exporter": "python",
   "pygments_lexer": "ipython3",
   "version": "3.6.8"
  }
 },
 "nbformat": 4,
 "nbformat_minor": 2
}
