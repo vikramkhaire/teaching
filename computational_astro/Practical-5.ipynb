{
 "cells": [
  {
   "cell_type": "markdown",
   "metadata": {},
   "source": [
    "# Practical 5\n",
    "\n",
    "Week 1: 27-30 September 2021\n",
    "\n",
    "Interpolatin and Integration"
   ]
  },
  {
   "cell_type": "markdown",
   "metadata": {},
   "source": [
    "======================================================="
   ]
  },
  {
   "cell_type": "markdown",
   "metadata": {},
   "source": [
    "### Example 1:  1D Interpolation \n",
    "\n",
    "Write a gerneral python function to interpolate using $n$ degree polynomial. Use it on the data generated using following 1D function (as suggested in the class):\n",
    "\n",
    "$f(x) = 7x^3 - 4x^2 + 10$\n",
    "\n",
    "where $x$ values are from -20 to 20 with a separation of 1\n",
    "\n",
    "Find value of $f(x)$ at $x = 3.14$ for \n",
    "\n",
    "a) linear interpolation\n",
    "\n",
    "b) quadratic interpolation\n",
    "\n",
    "c) three-degree polynomial interpolation\n",
    "\n",
    "d) four-degree polynomial interpolation\n",
    "\n",
    "Compare the results of each with the true value from the function and comment on the results. \n",
    "\n",
    "----------------------"
   ]
  },
  {
   "cell_type": "code",
   "execution_count": null,
   "metadata": {
    "collapsed": true
   },
   "outputs": [],
   "source": []
  },
  {
   "cell_type": "markdown",
   "metadata": {
    "collapsed": true
   },
   "source": [
    "### Example 2:  2D Interpolation \n",
    "\n",
    "Create a 2D dataset i.e $f(x, y)$ by taking a quadratic function of your choice. Plot the data (there are many ways to do that). Write a code to for linear and quadratic interpolation to find values of interpolated data at any point $(x_0, y_0)$. \n",
    "\n",
    "-------------------\n"
   ]
  },
  {
   "cell_type": "code",
   "execution_count": null,
   "metadata": {
    "collapsed": true
   },
   "outputs": [],
   "source": []
  },
  {
   "cell_type": "markdown",
   "metadata": {},
   "source": [
    "### Example 3:  Integration \n",
    "The equivalent width of an absorption line is defined as \n",
    "\n",
    "$W_{\\lambda} = \\int (1-f_{\\lambda}/f_{0}) d\\lambda$. \n",
    "\n",
    "Where $f_\\lambda$ is flux at wavelength $\\lambda$ and $f_0$ is continuum. \n",
    "\n",
    "Find the attached file data_3c273.fits. It has a spectrum with six prominent absorption lines. Find three columns: 'WAVE' column is wavelength, 'FLUX' column in flux,  and 'CONT' column in continuums. Separate each absorption line and calculate the equivalent width for each.\n",
    "\n",
    "**Tips**: Write a general code for equivalent width calculation. You can use astropy.table.Table.read to read the file. Manually separate the lines.\n",
    "\n",
    "----------------\n"
   ]
  },
  {
   "cell_type": "code",
   "execution_count": null,
   "metadata": {
    "collapsed": true
   },
   "outputs": [],
   "source": []
  },
  {
   "cell_type": "markdown",
   "metadata": {},
   "source": [
    "### Example 4:  Legendre-Gauss quadrature integral approximation\n",
    "\n",
    "One of the easiest ways to integrate a function is to use the Gauss-quadrature rule if the function can be approximated by the polynomials. The approximate integral is   \n",
    "\n",
    "$\\int_{-1}^{1}{f(x)dx} \\approx \\sum_{i=1}^{n} w_i f(x_i)$\n",
    "\n",
    "The summation is called the Legendre-Gauss quadrature approximation because the abscissae $x_i$ in the Gauss quadrature function for interval $[-1,1]$ are defined as the roots of the Legendre polynomial for $n$:\n",
    "\n",
    "$P_n(x) =  \\frac{1}{2\\pi i} \\oint {(1-2tx-t^2)^{-1/2}} t^{-n-1} dt$\n",
    "\n",
    "and the weights $w_i$ are\n",
    "\n",
    "$w_i = \\frac{2}{(1-x^2_i)[P^{'}_n(x_i)]^2}$\n",
    "\n",
    "Using the same approximation solve the following two integrals.\n",
    "\n",
    "A) $\\int_{-1}^{1} \\frac{1}{(1+x^2)}~$  (with $n=1$ Gauss quadrature)\n",
    "\n",
    "B) $\\int_{0}^{1} x^2 e^{-x}dx~$ (with $n=2$ Gauss quadrature)\n",
    "\n",
    "C) $\\int_{0}^{1.8} \\frac{{\\rm sin}x}{(x+1)^2 e^x}~$ (with $n = 3$ Gauss quadrature)\n",
    "\n",
    "Search online for the values of $w_i$ and $x_i$ for $n=1$ and $n=3$ Gauss quadrature. \n",
    "\n",
    "For intervales other than $[-1, 1]$ change the limits of integral following: \n",
    "\n",
    "$\\int_{a}^{b}{f(x)dx} = \\frac{b-a}{2} \\int_{-1}^{1}{f\\Big(\\frac{b-a}{2}x + \\frac{b+a}{2}\\Big)dx}$\n",
    "\n",
    "\n",
    "----------------"
   ]
  },
  {
   "cell_type": "code",
   "execution_count": null,
   "metadata": {
    "collapsed": true
   },
   "outputs": [],
   "source": []
  }
 ],
 "metadata": {
  "kernelspec": {
   "display_name": "Python 3",
   "language": "python",
   "name": "python3"
  },
  "language_info": {
   "codemirror_mode": {
    "name": "ipython",
    "version": 3
   },
   "file_extension": ".py",
   "mimetype": "text/x-python",
   "name": "python",
   "nbconvert_exporter": "python",
   "pygments_lexer": "ipython3",
   "version": "3.6.8"
  }
 },
 "nbformat": 4,
 "nbformat_minor": 2
}
