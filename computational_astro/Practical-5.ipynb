{
 "cells": [
  {
   "cell_type": "markdown",
   "metadata": {},
   "source": [
    "# Practical 5\n",
    "\n",
    "Week 1: 27-30 September 2021\n",
    "\n",
    "Interpolatin and Integration"
   ]
  },
  {
   "cell_type": "markdown",
   "metadata": {},
   "source": [
    "======================================================="
   ]
  },
  {
   "cell_type": "markdown",
   "metadata": {},
   "source": [
    "### Example 1:  Interpolation \n",
    "\n",
    "Write a gerneral python function to interpolate using $n$ degree polynomial. Use it on the data generated using following 1D function (as suggested in the class):\n",
    "\n",
    "$f(x) = 7x^3 - 4x^2 + 10$\n",
    "\n",
    "where $x$ values are from -20 to 20 with a seperation of 1\n",
    "\n",
    "Find value of $f(x)$ at $x = 3.14$ for \n",
    "\n",
    "a) linear interpolation\n",
    "\n",
    "b) quadratic interpolation\n",
    "\n",
    "c) three degree polynomial interpolation\n",
    "\n",
    "d) four degree polynomial interpolation\n",
    "\n",
    "Copmare the resutls of each with the true value from the fuction and comment on the results. \n",
    "\n",
    "----------------------"
   ]
  },
  {
   "cell_type": "code",
   "execution_count": null,
   "metadata": {
    "collapsed": true
   },
   "outputs": [],
   "source": []
  }
 ],
 "metadata": {
  "kernelspec": {
   "display_name": "Python 3",
   "language": "python",
   "name": "python3"
  },
  "language_info": {
   "codemirror_mode": {
    "name": "ipython",
    "version": 3
   },
   "file_extension": ".py",
   "mimetype": "text/x-python",
   "name": "python",
   "nbconvert_exporter": "python",
   "pygments_lexer": "ipython3",
   "version": "3.6.8"
  }
 },
 "nbformat": 4,
 "nbformat_minor": 2
}
