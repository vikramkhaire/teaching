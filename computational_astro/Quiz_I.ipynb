{
 "cells": [
  {
   "cell_type": "markdown",
   "metadata": {},
   "source": [
    "# Quiz I\n",
    "\n",
    "\n",
    "Date: 22 September 2021\n",
    "    \n",
    "Time : 9:30 to 12:30\n",
    "\n",
    "Instructions:  \n",
    "\n",
    "1) You are **allowed** to look at your class notes and practical sheets. However, do not copy-paste any codes. \n",
    "\n",
    "2) Do not take any help either online or from your friends, which will be treated as cheating.\n",
    "\n",
    "3) You are not allowed to use custom python functions for solving problems unless stated otherwise in the problems.  In case of doubt ask the instructor.\n",
    "\n",
    "4) Please write clean codes with sufficient comments. Clumsy codes can reduce your marks.\n",
    "\n",
    "5) Submit two files: a single pdf of the jupyter notebook and the original jupyter notebook file. Before submitting run all the cells again.\n",
    "\n",
    "\n",
    "------------------------"
   ]
  },
  {
   "cell_type": "code",
   "execution_count": null,
   "metadata": {
    "collapsed": true
   },
   "outputs": [],
   "source": []
  },
  {
   "cell_type": "markdown",
   "metadata": {},
   "source": [
    "### Question 1:\n",
    "\n",
    "You throw a tennis ball at an angle of 60 degrees to the ground with a velocity of 30 m/s.  Upon dropping on the ground it rebounds. At each rebound, the tennis ball loses 20% of its current kinetic energy.  \n",
    "\n",
    "Plot the trajectory of the tennis ball in the $x$-$y$ plane,starting from origin, where $x$-axis represents the ground plane and $y$-axis as vertical elevation. The plot should show at least four bounces of the ball. \n",
    "\n",
    "Comment on the total amount of time the ball will bounce and the total horizontal distance it will cover.\n",
    "\n",
    "**Marks: 6 **\n",
    "\n",
    "-----------------"
   ]
  },
  {
   "cell_type": "markdown",
   "metadata": {},
   "source": [
    "\n",
    "\n",
    "\n",
    "\n",
    "\n",
    "\n",
    "\n",
    "\n",
    "\n",
    "\n"
   ]
  },
  {
   "cell_type": "code",
   "execution_count": null,
   "metadata": {
    "collapsed": true
   },
   "outputs": [],
   "source": []
  },
  {
   "cell_type": "markdown",
   "metadata": {},
   "source": [
    "### Question 2 :\n",
    "\n",
    "Write a general code to find a local minimum of a one-dimensional function $f(x)$ following an approximate algorithm given below:\n",
    "\n",
    "1. Choose an initial guess $x_0$ \n",
    "\n",
    "2. Find the slope of the function at $x_0$. Do not use analytical derivatives.\n",
    "\n",
    "3. Taking cue from the slope, choose next point $x_1 =  x_0 + \\alpha$.\n",
    "\n",
    "4. repeat steps 2 and 3 until point $x_n$ reaches the minima within some accuracy or maximum number of iteration $n$\n",
    "\n",
    "In this problem, one has to choose $\\alpha$ in every step in such a way that $x_n$ converges to local minima. For example, using the same value of $\\alpha$ for each step is neither accurate nor efficient. Take a hint from the values of slopes.\n",
    "\n",
    "Formulate a function $f(x)$ having  a minima. Plot it. Show that your algorithm gives the correct local minima for this function. \n",
    "\n",
    "**Marks: 7 **\n",
    "\n",
    "-------------"
   ]
  },
  {
   "cell_type": "code",
   "execution_count": null,
   "metadata": {
    "collapsed": true
   },
   "outputs": [],
   "source": []
  },
  {
   "cell_type": "markdown",
   "metadata": {},
   "source": [
    "### Question 3 :\n",
    "\n",
    "A)\n",
    "\n",
    "One of the ways to represent data given by $m$ columns having $n$ elements each is to write a $m \\times m$ summary matrix. Say that matrix is $V$. The elements of $V$ are given by\n",
    "\n",
    "$V_{ij} = \\frac{1}{n} \\sum_{k = 1} ^{n}{s_{ik} s_{jk}}$\n",
    "\n",
    "where $s_{ik}=$ k$^{th}$ element in column $i$ $-$ mean of elements in cloumn $i$  \n",
    "\n",
    "Write a simple python code to calculate $3 \\times 3$ matrix $V$ for the following dataset. You can use numpy.mean function.\n",
    "\n",
    "\n",
    "\n",
    "| X (Age) | Y (Weight) | Z (Height)|\n",
    "| --- | --- | --- |\n",
    "| 5  | 16 | 3.5 |\n",
    "| 11 | 26 | 4.1 |\n",
    "| 17 | 56 | 6.0 |\n",
    "| 26 | 61 | 5.8 |\n",
    "| 35 | 70 | 5.9 |\n",
    "| 44 | 79 | 5.7 |\n",
    "| 51 | 76 | 5.6 |\n",
    "| 59 | 64 | 6.1 |\n",
    "| 66 | 60 | 5.9 |\n",
    "| 74 | 58 | 6.2 |\n",
    "| 81 | 55 | 5.7 |\n",
    "| 89 | 57 | 6.0 |\n",
    "\n",
    "\n",
    "B)\n",
    "\n",
    "Any given data can be written in terms of a $n \\times m$ matrix, where data has $m$ columns with $n$ elements each. Write a general code for calculating matrix $V$ for such a $n \\times m$ matrix. Use it on the above data. For such a code you can use the matrix multiplication function numpy.matmul(), if needed. You are expected to write almost all operations in terms of matrix algebra. \n",
    "\n",
    "**Marks: 7 **\n",
    "\n",
    "-----------------"
   ]
  },
  {
   "cell_type": "code",
   "execution_count": null,
   "metadata": {
    "collapsed": true
   },
   "outputs": [],
   "source": []
  },
  {
   "cell_type": "markdown",
   "metadata": {},
   "source": [
    "### Notes:\n",
    "\n",
    "Use following arrays for question 3\n",
    "\n",
    "X = [5,  11, 17, 26, 35, 44, 51, 59, 66, 74, 81, 89]\n",
    "\n",
    "Y = [16, 26, 56, 61, 70, 79, 76, 64, 60, 58, 55, 57]\n",
    "\n",
    "Z = [3.5, 4.1, 6.0, 5.8, 5.9, 5.7, 5.6, 6.1, 5.9, 6.2, 5.7, 6.0]\n",
    "\n"
   ]
  },
  {
   "cell_type": "code",
   "execution_count": null,
   "metadata": {
    "collapsed": true
   },
   "outputs": [],
   "source": []
  },
  {
   "cell_type": "code",
   "execution_count": null,
   "metadata": {
    "collapsed": true
   },
   "outputs": [],
   "source": []
  }
 ],
 "metadata": {
  "kernelspec": {
   "display_name": "Python 3",
   "language": "python",
   "name": "python3"
  },
  "language_info": {
   "codemirror_mode": {
    "name": "ipython",
    "version": 3
   },
   "file_extension": ".py",
   "mimetype": "text/x-python",
   "name": "python",
   "nbconvert_exporter": "python",
   "pygments_lexer": "ipython3",
   "version": "3.6.8"
  }
 },
 "nbformat": 4,
 "nbformat_minor": 2
}
