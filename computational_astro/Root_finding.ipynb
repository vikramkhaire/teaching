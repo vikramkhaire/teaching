{
 "cells": [
  {
   "cell_type": "markdown",
   "metadata": {},
   "source": [
    "# Few Simple Methods for Finding Roots\n",
    "\n",
    "-Vikram Khaire; Date: August 30, 2021 "
   ]
  },
  {
   "cell_type": "markdown",
   "metadata": {},
   "source": [
    "#### Finding roots is just solving $f(x) = 0$ \n",
    "\n",
    "Numerically it is to find out when $f(x)$ approximately crosses zero. The inputs you need is a finite intervel $[a, b]$ in which you can find the solution. "
   ]
  },
  {
   "cell_type": "markdown",
   "metadata": {},
   "source": [
    "-------------"
   ]
  },
  {
   "cell_type": "markdown",
   "metadata": {},
   "source": [
    "### Example:  Find roots of polynomial $f(x) =  5x^2 + 2x -25$"
   ]
  },
  {
   "cell_type": "markdown",
   "metadata": {},
   "source": [
    "#### Normal Algebra: \n",
    "\n",
    "$f(x)= 0$\n",
    "\n",
    "$Ax^2+Bx +c = 0$\n",
    "\n",
    "Solution is $\\frac{- B \\pm \\sqrt{B^2 - 4 AC}}{2A} $"
   ]
  },
  {
   "cell_type": "code",
   "execution_count": null,
   "metadata": {
    "collapsed": true
   },
   "outputs": [],
   "source": [
    "# basic imports \n",
    "#%matplotlib inline\n",
    "%matplotlib notebook\n",
    "\n",
    "import numpy as np\n",
    "import matplotlib.pyplot as plt"
   ]
  },
  {
   "cell_type": "code",
   "execution_count": null,
   "metadata": {
    "collapsed": true
   },
   "outputs": [],
   "source": [
    "def solve_quadratic(a, b, c):\n",
    "    # olny for real roots\n",
    "    square_root_term  = np.sqrt(b**2 - 4*a*c)\n",
    "    first_solution  = (-b + square_root_term)/(2*a)\n",
    "    second_solution = (-b - square_root_term)/(2*a)\n",
    "    return first_solution, second_solution"
   ]
  },
  {
   "cell_type": "code",
   "execution_count": null,
   "metadata": {},
   "outputs": [],
   "source": [
    "solve_quadratic(a= 5, b= 2, c= -25)"
   ]
  },
  {
   "cell_type": "markdown",
   "metadata": {},
   "source": [
    "####  Let's plot above function "
   ]
  },
  {
   "cell_type": "code",
   "execution_count": null,
   "metadata": {
    "collapsed": true
   },
   "outputs": [],
   "source": [
    "def function(x):\n",
    "    return 5*x**2+ 2*x -25"
   ]
  },
  {
   "cell_type": "code",
   "execution_count": null,
   "metadata": {},
   "outputs": [],
   "source": [
    "# simple plotting\n",
    "x = np.linspace(-4, 4, 1000)\n",
    "plt.plot(x, function(x), color= 'blue')\n",
    "plt.axhline(y =0, color = 'r')\n",
    "plt.axvline(x= -2.4445, ls = '--', c = 'g')\n",
    "plt.axvline(x= 2.045, linestyle = '--', color = 'g')\n"
   ]
  },
  {
   "cell_type": "code",
   "execution_count": null,
   "metadata": {},
   "outputs": [],
   "source": [
    "function(np.array([solve_quadratic(5, 2, -25)[0], solve_quadratic(5, 2, -25)[1]]))"
   ]
  },
  {
   "cell_type": "markdown",
   "metadata": {},
   "source": [
    "## Bisection method"
   ]
  },
  {
   "cell_type": "markdown",
   "metadata": {},
   "source": [
    "* Step 1:  Specify or guess interval $[a, b]$ in which only one solution exists i.e such that $f(a)$ and $f(b)$ has opposite signs"
   ]
  },
  {
   "cell_type": "code",
   "execution_count": null,
   "metadata": {},
   "outputs": [],
   "source": [
    "# [a, b] == [0, 3]\n",
    "a=0; b=3 \n",
    "x = np.linspace(0, 3, 1000)\n",
    "plt.figure()\n",
    "plt.plot(x, function(x), lw =2., c= 'b')\n",
    "plt.axhline(0, color = 'r', ls = '--')\n",
    "#plt.axvline(-2.4445, ls = '--', c = 'g')\n",
    "plt.axvline(2.045, linestyle = '--', color = 'g')"
   ]
  },
  {
   "cell_type": "markdown",
   "metadata": {},
   "source": [
    "* Step 2: find midpoing $c = \\frac{a + b}{2}$ and $f(c)$"
   ]
  },
  {
   "cell_type": "code",
   "execution_count": null,
   "metadata": {},
   "outputs": [],
   "source": [
    "c = (a+b)/2\n",
    "print(c)\n",
    "function(c)"
   ]
  },
  {
   "cell_type": "markdown",
   "metadata": {},
   "source": [
    "* Step 3: Depending on sign of the $f(c)$ find next interval for search\n",
    "\n",
    "     1) First check if (we are lucky!) $f(c) = 0$.\n",
    "     \n",
    "     2) If not then check the sign of $f(c)$ and compare it with sign of $f(a)$ and $f(b)$ to determine\n",
    "     which two have opposite signs. The solution lies somewhere in that interval. \n",
    "     \n",
    "     3) Depending on result of above step replace $a$ or $b$ by the value of c and repeate the Steps 2 and 3\n",
    "     till you find solution (within your specified tolerance/error i.e $\\Delta = |f(a) - f(b)|$). \n",
    "                "
   ]
  },
  {
   "cell_type": "code",
   "execution_count": null,
   "metadata": {
    "collapsed": true
   },
   "outputs": [],
   "source": [
    "def bisection_root(a, b, error = 0.001):\n",
    "    \n",
    "    # check if intervals are right\n",
    "    if function(a)*function(b) >=0 :\n",
    "        print('Check the initial interval; solution may not exists')\n",
    "        return\n",
    "    \n",
    "    c = a # randomly assigning in case while loop breaks\n",
    "     \n",
    "    # stopping while loop when we reach error\n",
    "    while (abs(function(a)-function(b))) >= error:\n",
    "        \n",
    "        # finding midpoint\n",
    "        c = (a+b)/2\n",
    "        \n",
    "        # check if we have a solution!\n",
    "        if function(c)==0:\n",
    "            break\n",
    "        \n",
    "        # check the signs \n",
    "        if function(c)*function(a) < 0:\n",
    "            b=c\n",
    "        else:\n",
    "            a=c\n",
    "                    \n",
    "    print('Solution is ', c)\n",
    "        \n",
    "    return c\n",
    "    "
   ]
  },
  {
   "cell_type": "code",
   "execution_count": null,
   "metadata": {},
   "outputs": [],
   "source": [
    "bisection_root(4, 3, error= 0.1)"
   ]
  },
  {
   "cell_type": "markdown",
   "metadata": {},
   "source": [
    "### A very simple animation of the bisection code \n",
    "\n",
    "Note: Animations will not be asked to reproduce in exams. These are just for fun illustration. (Also, I have just started exploring animation couple of hours ago. 😄 )"
   ]
  },
  {
   "cell_type": "code",
   "execution_count": null,
   "metadata": {
    "collapsed": true
   },
   "outputs": [],
   "source": [
    "def bisection_array(a, b, iter_max =20):\n",
    "    \n",
    "    # storing arrays for plotting/table\n",
    "    \n",
    "    arr_c = [0]\n",
    "    arr_a = [a]\n",
    "    arr_b = [b]\n",
    "    arr_iter = [0]\n",
    "    arr_func = [0] # f(c)\n",
    "    \n",
    "    \n",
    "    i = 0\n",
    "    while i < iter_max:\n",
    "        \n",
    "        c = (a+b)/2\n",
    "        i = i + 1 # changing iteration number\n",
    "        \n",
    "        if function(c)==0:\n",
    "            break\n",
    "        \n",
    "        if function(c)*function(a) < 0:\n",
    "            b=c\n",
    "        else:\n",
    "            a=c\n",
    "            \n",
    "        arr_c.append(c)\n",
    "        arr_a.append(a)\n",
    "        arr_b.append(b)\n",
    "        arr_iter.append(i)\n",
    "        arr_func.append(function(c))\n",
    "\n",
    "        \n",
    "    return arr_c, arr_func, arr_iter, arr_a, arr_b"
   ]
  },
  {
   "cell_type": "code",
   "execution_count": null,
   "metadata": {
    "collapsed": true
   },
   "outputs": [],
   "source": [
    "arr_c, arr_func, arr_iter, arr_a, arr_b = bisection_array(0, 3)"
   ]
  },
  {
   "cell_type": "code",
   "execution_count": null,
   "metadata": {},
   "outputs": [],
   "source": [
    "# from https://jakevdp.github.io/blog/2012/08/18/matplotlib-animation-tutorial/\n",
    "\n",
    "# import numpy as np\n",
    "from matplotlib import pyplot as plt\n",
    "from matplotlib import animation\n",
    "\n",
    "# First set up the figure, the axis, and the plot element we want to animate\n",
    "fig = plt.figure()\n",
    "ax = plt.axes(xlim=(1.4, 2.4), ylim=(-17, 17))\n",
    "x = np.linspace(0, 5, 1000)\n",
    "y = function(x)\n",
    "ax.axhline(0, ls ='--', c ='g')\n",
    "ax.plot(x, y, c = 'b', lw =2)\n",
    "line, = ax.plot([], [], lw=2)\n",
    "iter_text = ax.text(0.02, 0.95, '', transform=ax.transAxes)\n",
    "\n",
    "\n",
    "# initialization function: plot the background of each frame\n",
    "def init():\n",
    "    iter_text.set_text('')\n",
    "    return line\n",
    "\n",
    "# animation function. This is called sequentially\n",
    "def animate(i):\n",
    "    plt.axvline(arr_c[i], color = 'r', ls = '--')\n",
    "    iter_text.set_text('iteration = {}'.format(i +1) )\n",
    "\n",
    "    if i >8:\n",
    "        ax = plt.axes(xlim=(2.0445, 2.046), ylim=(-0.015, 0.02))\n",
    "        x = np.linspace(0, 5, 1000)\n",
    "        y = function(x)\n",
    "        ax.axhline(0, ls ='--', c ='g')\n",
    "        ax.plot(x, y, c = 'b', lw =2)\n",
    "        \n",
    "    return line\n",
    "\n",
    "# call the animator.  blit=True means only re-draw the parts that have changed.\n",
    "anim = animation.FuncAnimation(fig, animate, init_func= init, frames=20, interval=800)#, blit=True)"
   ]
  },
  {
   "cell_type": "markdown",
   "metadata": {},
   "source": [
    "### accuracy of bisection with each iteration \n",
    "\n",
    "* solution lies in interval $|c_n - c| \\le \\frac{|b-a|}{2^n}$. Converges lineraly to the solution."
   ]
  },
  {
   "cell_type": "code",
   "execution_count": null,
   "metadata": {},
   "outputs": [],
   "source": [
    "# showing in nice table format\n",
    "import astropy.table as tab\n",
    "tab.Table((arr_iter, arr_a, arr_b, arr_c, arr_func), names= ('iteration', 'a', 'b', 'c', 'f(c)'))\n"
   ]
  },
  {
   "cell_type": "markdown",
   "metadata": {
    "collapsed": true
   },
   "source": [
    "## False position method\n",
    "\n",
    "Same as bisection method to solve $f(x) = 0$ in intervale $[a, b]$ but instead of choosing midpoint as next point of iteration you choose a point that is at $g(x) = 0 $ where $g(x)$ is a line joining $(a, f(a))$ and $(b, f(b))$"
   ]
  },
  {
   "cell_type": "code",
   "execution_count": null,
   "metadata": {},
   "outputs": [],
   "source": [
    "# let me explain with a diagram\n",
    "# plotting same segment as above for function 5*x**2+ 2*x -25\n",
    "a=0; b=3.5\n",
    "x = np.linspace(a, b, 1000)\n",
    "plt.figure()\n",
    "plt.plot(x, function(x), lw =2., c= 'b')\n",
    "plt.axhline(0, color = 'r', ls = '--')\n",
    "#plt.axvline(-2.4445, ls = '--', c = 'g')\n",
    "plt.axvline(2.045, linestyle = '--', color = 'g')"
   ]
  },
  {
   "cell_type": "code",
   "execution_count": null,
   "metadata": {},
   "outputs": [],
   "source": [
    "# say our interval is [0, 3.5]\n",
    "# in bisection we choose midpoint c= 1.5 \n",
    "\n",
    "# let me highlight point a and b\n",
    "plt.scatter([a, b], [function(a), function(b)], color = 'r', s =100)\n",
    "c = (a+b)/2\n",
    "plt.scatter([c], [function(c)], color= 'green', s = 100, alpha =0.8)\n",
    "plt.text(c, function(c)-3, 'bisection point') # adding text\n",
    "\n",
    "# for False position method\n",
    "plt.plot([a, b], [function(a), function(b)], color = 'k', ls = '--')\n",
    "\n",
    "intercept = 1.287\n",
    "plt.plot ([intercept, intercept], [function(intercept), 0], c = 'cyan')\n",
    "plt.scatter([intercept], [function(intercept)], color= 'k', s = 100, alpha =0.8)\n"
   ]
  },
  {
   "cell_type": "code",
   "execution_count": null,
   "metadata": {},
   "outputs": [],
   "source": [
    "function(intercept)"
   ]
  },
  {
   "cell_type": "markdown",
   "metadata": {},
   "source": [
    "### How to find intercept?\n",
    "\n",
    "Equation of line $y = mx + x_0$. We want to solve for x when y = 0  \n",
    "\n",
    "for line jointing two points $(a, f(a))$ and $(b, f(b))$\n",
    "\n",
    "slope $m  = \\frac{f(b) -f(a)}{b-a}$\n",
    "\n"
   ]
  },
  {
   "cell_type": "markdown",
   "metadata": {},
   "source": [
    "find $x_0$? \n",
    "\n",
    "e.g use point $(b, f(b)$ i.e when $x= b, y =f (b)$\n",
    "\n",
    "$f(b) = m b + x_0$            \n",
    "\n",
    "i.e\n",
    "\n",
    "$x_0 = f(b) -mb$\n"
   ]
  },
  {
   "cell_type": "markdown",
   "metadata": {},
   "source": [
    "substitute it in $y= mx + x_0$\n",
    "\n",
    "$y = mx -mb + f(b)$\n",
    "\n",
    "we want to find $x=c$ when $y = 0$\n",
    "\n",
    "$mc = mb -f(b)$\n",
    "\n",
    "$c = b -f(b)/m$ \n",
    "\n",
    "$c = b - \\frac{f(b) (b - a)}{f(b)- f(a)}$\n",
    "\n",
    "$c= \\frac{bf(b)- bf(a) -bf(b) + af(b)}{f(b)- f(a)}$\n",
    "\n",
    "$c= \\frac{af(b) - bf(a)}{f(b)-f(a)}$"
   ]
  },
  {
   "cell_type": "markdown",
   "metadata": {},
   "source": [
    "### code for false position method"
   ]
  },
  {
   "cell_type": "code",
   "execution_count": null,
   "metadata": {},
   "outputs": [],
   "source": [
    "# rewriting function again (just for completenes)\n",
    "def function(x):\n",
    "    return 5*x**2+ 2*x -25\n",
    "\n",
    "# false position method\n",
    "def false_position(a, b, error = 0.0001):\n",
    "    \n",
    "    # check if intervals are right\n",
    "    if function(a)*function(b) >=0 :\n",
    "        print('Check the initial interval; solution may not exists')\n",
    "        return\n",
    "    \n",
    "     \n",
    "    # stopping while loop when we reach error\n",
    "    while abs(function(c)) >= error:\n",
    "        # note the error implementation is different here\n",
    "\n",
    "        \n",
    "        # finding false position point\n",
    "        c = (a*function(b) - b*function(a))/(function(b) - function(a))\n",
    "        \n",
    "        # check if we have a solution!\n",
    "        if function(c)==0:\n",
    "            break\n",
    "        \n",
    "        # check the signs \n",
    "        if function(c)*function(a) < 0:\n",
    "            b=c\n",
    "        else:\n",
    "            a=c\n",
    "\n",
    "                    \n",
    "    print('Solution is ', c)\n",
    "        \n",
    "    return c"
   ]
  },
  {
   "cell_type": "code",
   "execution_count": null,
   "metadata": {},
   "outputs": [],
   "source": [
    "bisection_root(0, 3)"
   ]
  },
  {
   "cell_type": "code",
   "execution_count": null,
   "metadata": {},
   "outputs": [],
   "source": [
    "false_position(0, 3)"
   ]
  },
  {
   "cell_type": "markdown",
   "metadata": {},
   "source": [
    "### Newton-Raphson Method"
   ]
  },
  {
   "cell_type": "markdown",
   "metadata": {},
   "source": [
    "Choose only one point as an intial guess $x_1$ and draw a tangent at point $f(x_1)$.\n",
    "\n",
    "Find the intercept of that tangent to line $y = 0$. That is your new $x_1$ and repeat. "
   ]
  },
  {
   "cell_type": "markdown",
   "metadata": {},
   "source": [
    "From wikipedia: \n",
    "<img src=\"NewtonIteration_Ani.gif\">"
   ]
  },
  {
   "cell_type": "code",
   "execution_count": null,
   "metadata": {
    "collapsed": true
   },
   "outputs": [],
   "source": []
  }
 ],
 "metadata": {
  "kernelspec": {
   "display_name": "Python 3",
   "language": "python",
   "name": "python3"
  },
  "language_info": {
   "codemirror_mode": {
    "name": "ipython",
    "version": 3
   },
   "file_extension": ".py",
   "mimetype": "text/x-python",
   "name": "python",
   "nbconvert_exporter": "python",
   "pygments_lexer": "ipython3",
   "version": "3.6.8"
  }
 },
 "nbformat": 4,
 "nbformat_minor": 2
}
