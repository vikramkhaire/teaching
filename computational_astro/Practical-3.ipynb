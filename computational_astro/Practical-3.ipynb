{
 "cells": [
  {
   "cell_type": "markdown",
   "metadata": {},
   "source": [
    "# Practical 3\n",
    "\n",
    "Week 3: 6 September - 10 September, 2021\n",
    "\n",
    "System of linear equations, factorization methods & matrix inversion"
   ]
  },
  {
   "cell_type": "markdown",
   "metadata": {},
   "source": [
    "======================================================================"
   ]
  },
  {
   "cell_type": "markdown",
   "metadata": {},
   "source": [
    "### Example 1:  Matrix Manipulations\n",
    "\n",
    "1) Create an 11x11 matrix with all elements to be zero.\n",
    "\n",
    "2) Replace all elements with 5\n",
    "\n",
    "3) Replace central row and column with zero (make a cross with zeros.)\n",
    "\n",
    "4) Replace appropriate elements with zero such that they look like Swastika. \n",
    "\n",
    "5) Replace its both diagonal elements with 1\n",
    "\n",
    "6) Replace its upper triangular elements (except the diagonal) with value 2\n",
    "\n",
    "7) Replace its lower triangular elements (except the diagonal) with value 4\n",
    "\n",
    "8) Write a function to transpose any matrix. Try it on the above matrix.\n",
    "\n",
    "9) Write a general code to calculate the determinant of a matrix. Try it on the above matrix.\n",
    "\n",
    "10) Check your answers of 9 and 10 above by using numpy.transpose and numpy.linalg.det functions.\n",
    "\n",
    "------------------------"
   ]
  },
  {
   "cell_type": "code",
   "execution_count": null,
   "metadata": {
    "collapsed": true
   },
   "outputs": [],
   "source": []
  },
  {
   "cell_type": "markdown",
   "metadata": {
    "collapsed": true
   },
   "source": [
    "======================================================================"
   ]
  },
  {
   "cell_type": "markdown",
   "metadata": {},
   "source": [
    "### Example 2:  Matrix inversion\n",
    "\n",
    "Write a general code for matrix inversion that uses minors and cofactors. Try it on a random 4x4 matrix and compare the results using numpy.linalg.inv function.\n",
    "\n",
    "\n",
    "-------------------------------------"
   ]
  },
  {
   "cell_type": "code",
   "execution_count": null,
   "metadata": {
    "collapsed": true
   },
   "outputs": [],
   "source": []
  }
 ],
 "metadata": {
  "kernelspec": {
   "display_name": "Python 3",
   "language": "python",
   "name": "python3"
  },
  "language_info": {
   "codemirror_mode": {
    "name": "ipython",
    "version": 3
   },
   "file_extension": ".py",
   "mimetype": "text/x-python",
   "name": "python",
   "nbconvert_exporter": "python",
   "pygments_lexer": "ipython3",
   "version": "3.6.8"
  }
 },
 "nbformat": 4,
 "nbformat_minor": 2
}
