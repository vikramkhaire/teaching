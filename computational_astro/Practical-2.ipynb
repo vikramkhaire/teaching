{
 "cells": [
  {
   "cell_type": "markdown",
   "metadata": {},
   "source": [
    "# Practical 2\n",
    "\n",
    "Week 1: 30 August - 3 September, 2021\n",
    "\n",
    "Finding roots of equations. "
   ]
  },
  {
   "cell_type": "markdown",
   "metadata": {},
   "source": [
    "======================================================="
   ]
  },
  {
   "cell_type": "markdown",
   "metadata": {},
   "source": [
    "### Example 1:  Kepler's Laws\n",
    "\n",
    "Consider a binary star system. Given (a) the masses of objects in solar mass, (b) eccentricity of reduced mass in the center of mass (CM) frame, and (c) semi-major axis (in AU) of the reduced mass in CM frame,\n",
    "plot the paths of the binary objects and reduced mass. You may assume that the orbital plane lies in the sky-plane and the semi-major axis of reduced mass is along the East-West (say X-axis). Write equations in the markdown cell of the Jupyter Notebook. \n",
    "\n",
    "i) Formulate the algorithm using appropriate equations and plot the orbits. \n",
    "\n",
    "ii) What is the period, angular momentum, and total energy of the system?\n",
    "\n",
    "ii) Comment on the relative positions of the objects compared to the center of mass.\n",
    "\n",
    "ii) Estimate the semi-major axes of the two objects in AU.\n",
    "\n",
    "iii) Change the direction of the semi-major axis of the orbit of reduced mass and re-plot.\n",
    "\n",
    "iv) Introduce the inclination of the orbital plane with respect to the sky plane.\n",
    "\n",
    "----------------------"
   ]
  },
  {
   "cell_type": "code",
   "execution_count": null,
   "metadata": {
    "collapsed": true
   },
   "outputs": [],
   "source": []
  },
  {
   "cell_type": "markdown",
   "metadata": {
    "collapsed": true
   },
   "source": [
    "================================================="
   ]
  },
  {
   "cell_type": "markdown",
   "metadata": {},
   "source": [
    "### Example 2:  Finding roots ---> in progress\n",
    "\n",
    "$f(x) = \\frac{1}{(x-1)^2} + \\frac{1}{(x+1)^2} -a$\n",
    "\n",
    "i) Find both roots of above equation for $a = 5$ using all three methods discussed in the class. Write your own functions for bisection, false position and Newton-Raphson method.\n",
    "\n",
    "ii) Read on fiexd-point iterative method for finding roots. Write a python function and try it on the above function with $a =5$.\n",
    "\n",
    "iii) Try all four methods on the \n",
    "\n",
    "---------------------"
   ]
  },
  {
   "cell_type": "code",
   "execution_count": null,
   "metadata": {
    "collapsed": true
   },
   "outputs": [],
   "source": []
  },
  {
   "cell_type": "markdown",
   "metadata": {
    "collapsed": true
   },
   "source": [
    "================================================="
   ]
  },
  {
   "cell_type": "code",
   "execution_count": null,
   "metadata": {
    "collapsed": true
   },
   "outputs": [],
   "source": []
  }
 ],
 "metadata": {
  "kernelspec": {
   "display_name": "Python 3",
   "language": "python",
   "name": "python3"
  },
  "language_info": {
   "codemirror_mode": {
    "name": "ipython",
    "version": 3
   },
   "file_extension": ".py",
   "mimetype": "text/x-python",
   "name": "python",
   "nbconvert_exporter": "python",
   "pygments_lexer": "ipython3",
   "version": "3.6.8"
  }
 },
 "nbformat": 4,
 "nbformat_minor": 2
}
