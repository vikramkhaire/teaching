{
 "cells": [
  {
   "cell_type": "markdown",
   "metadata": {},
   "source": [
    "# Practical 2\n",
    "\n",
    "Week 2: 30 August - 3 September, 2021\n",
    "\n",
    "Kepler's laws and finding roots of equations. (Thanks ot Sarita Vig for example-1.)"
   ]
  },
  {
   "cell_type": "markdown",
   "metadata": {},
   "source": [
    "======================================================="
   ]
  },
  {
   "cell_type": "markdown",
   "metadata": {},
   "source": [
    "### Example 1:  Kepler's Laws\n",
    "\n",
    "Consider a binary star system. Given (a) the masses of objects in solar mass, (b) eccentricity of reduced mass in the center of mass (CM) frame, and (c) semi-major axis (in AU) of the reduced mass in CM frame,\n",
    "plot the paths of the binary objects and reduced mass. You may assume that the orbital plane lies in the sky-plane and the semi-major axis of reduced mass is along the East-West (say X-axis). Write equations in the markdown cell of the Jupyter Notebook. \n",
    "\n",
    "1) Formulate the algorithm using appropriate equations and plot the orbits. \n",
    "\n",
    "2) What is the period, angular momentum, and total energy of the system?\n",
    "\n",
    "3) Comment on the relative positions of the objects compared to the center of mass.\n",
    "\n",
    "4) Estimate the semi-major axes of the two objects in AU.\n",
    "\n",
    "5) Change the direction of the semi-major axis of the orbit of reduced mass and re-plot.\n",
    "\n",
    "6) Introduce the inclination of the orbital plane with respect to the sky plane.\n",
    "\n",
    "----------------------"
   ]
  },
  {
   "cell_type": "code",
   "execution_count": null,
   "metadata": {
    "collapsed": true
   },
   "outputs": [],
   "source": []
  },
  {
   "cell_type": "markdown",
   "metadata": {
    "collapsed": true
   },
   "source": [
    "================================================="
   ]
  },
  {
   "cell_type": "markdown",
   "metadata": {},
   "source": [
    "### Example 2:  Finding roots \n",
    "\n",
    "$f(x) = \\frac{1}{(x-1)^2} + \\frac{1}{(x+1)^2} -a$  \n",
    "\n",
    "\n",
    "1) Find both roots of the above equation for $a = 5$ using all three methods discussed in the class. Write functions for bisection, false position, and Newton-Raphson method.\n",
    "\n",
    "2) Read on fixed-point iterative method for finding roots. Write a python function and try it on the above function with $a =5$.\n",
    "\n",
    "3) Try all four methods on the above function with $a =2$. Explain your results. \n",
    "\n",
    "4) Use all four python functions you developed to find one or more roots of following functions correct upto 4 decimal places\n",
    "\n",
    "a) $x^3 -x -4 = 0$\n",
    "\n",
    "b) $xe^{-x} -1  = 0$\n",
    "\n",
    "c) $x{\\rm log}_{10}x -2 = 0$\n",
    "\n",
    "d) ${\\rm cos} (x) + xe^{x} = 0$\n",
    "\n",
    "5) Find the value of $\\sqrt{2}$ with an accuracy of $10^{-9}$.\n",
    "\n",
    "---------------------"
   ]
  },
  {
   "cell_type": "code",
   "execution_count": null,
   "metadata": {
    "collapsed": true
   },
   "outputs": [],
   "source": []
  },
  {
   "cell_type": "markdown",
   "metadata": {
    "collapsed": true
   },
   "source": [
    "================================================="
   ]
  },
  {
   "cell_type": "markdown",
   "metadata": {},
   "source": [
    "### Extra example :\n",
    "\n",
    "Using the NumPy library you can calculate the roots of any polynomial. The standard function numpy.roots finds roots by computing eigenvalues of the companion matrix. Write a code to create a companion matrix from the coefficients of the polynomials (maybe try with 3 or 4-degree polynomial). Then use numpy.linalg.eigvals function to compute the eigenvalues of the companion matrix.\n",
    "\n",
    "------------------"
   ]
  },
  {
   "cell_type": "code",
   "execution_count": null,
   "metadata": {
    "collapsed": true
   },
   "outputs": [],
   "source": []
  }
 ],
 "metadata": {
  "kernelspec": {
   "display_name": "Python 3",
   "language": "python",
   "name": "python3"
  },
  "language_info": {
   "codemirror_mode": {
    "name": "ipython",
    "version": 3
   },
   "file_extension": ".py",
   "mimetype": "text/x-python",
   "name": "python",
   "nbconvert_exporter": "python",
   "pygments_lexer": "ipython3",
   "version": "3.6.8"
  }
 },
 "nbformat": 4,
 "nbformat_minor": 2
}
