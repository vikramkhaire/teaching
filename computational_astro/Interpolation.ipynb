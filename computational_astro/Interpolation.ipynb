{
 "cells": [
  {
   "cell_type": "markdown",
   "metadata": {},
   "source": [
    "# Interpolation\n",
    "\n",
    "date 27 Sept 2021\n"
   ]
  },
  {
   "cell_type": "code",
   "execution_count": null,
   "metadata": {
    "collapsed": true
   },
   "outputs": [],
   "source": [
    "%matplotlib notebook\n",
    "import numpy as np\n",
    "import matplotlib.pyplot as plt"
   ]
  },
  {
   "cell_type": "code",
   "execution_count": null,
   "metadata": {},
   "outputs": [],
   "source": [
    "# create a data\n",
    "def function_poly(x):\n",
    "    y =  # choose your function\n",
    "    return y"
   ]
  },
  {
   "cell_type": "code",
   "execution_count": null,
   "metadata": {},
   "outputs": [],
   "source": [
    "# descrete data points\n",
    "x =  np.arange(-20, 20)\n",
    "y =  function_poly(x)"
   ]
  },
  {
   "cell_type": "code",
   "execution_count": null,
   "metadata": {},
   "outputs": [],
   "source": [
    "# plot the data\n",
    "plt.scatter(x, y, c = 'b', s = 9)\n",
    "plt.show()"
   ]
  },
  {
   "cell_type": "code",
   "execution_count": null,
   "metadata": {
    "collapsed": true
   },
   "outputs": [],
   "source": [
    "# the question?\n"
   ]
  },
  {
   "cell_type": "markdown",
   "metadata": {},
   "source": [
    "### Linear interpolation\n",
    "\n",
    "Equation of line $y = mx + c$. We want to find m and c for given two points $(x_0, y_0)$ and $(x_1, y_1)$\n",
    "\n",
    "for line jointing two points $(x_0, y_0)$ and $(x_1, y_1)$\n",
    "\n",
    "slope $m  = \\frac{y_1 -y_0}{x_1- x_0}$\n",
    "\n",
    "and $c$\n",
    "\n",
    "$y_1 - x_1 \\frac{y_1 -y_0}{x_1- x_0} = c$\n",
    "\n",
    "$y_0 - x_0 \\frac{y_1 -y_0}{x_1- x_0} = c$\n",
    "\n",
    "\n",
    "$y= x \\frac{y_1 -y_0}{x_1- x_0} + y_1 - x_1 \\frac{y_1 -y_0}{x_1- x_0}$\n",
    "\n",
    "\n",
    "$y= x \\frac{y_1 -y_0}{x_1- x_0} + y_0 - x_0 \\frac{y_1 -y_0}{x_1- x_0}$\n",
    "\n"
   ]
  },
  {
   "cell_type": "markdown",
   "metadata": {},
   "source": [
    "* useful form\n",
    "\n",
    " $y = y_0\\frac{x-x_1}{x_0-x_1} + y_1\\frac{x-x_0}{x_1-x_0}$"
   ]
  },
  {
   "cell_type": "code",
   "execution_count": null,
   "metadata": {
    "collapsed": true
   },
   "outputs": [],
   "source": []
  },
  {
   "cell_type": "code",
   "execution_count": null,
   "metadata": {
    "collapsed": true
   },
   "outputs": [],
   "source": []
  },
  {
   "cell_type": "markdown",
   "metadata": {},
   "source": [
    "### Quadratic interpolation\n",
    "\n",
    "Equation of line $y = ax^2 + bx +c$. We want to find a, b & c for given three points $(x_0, y_0)$, $(x_1, y_1)$ and $(x_3, y_3)$\n",
    "\n",
    "* solution is \n",
    "\n",
    "$y = y_0 L_0(x) + y_1 L_1(x) + y_2 L_2(x)$ \n",
    "\n",
    "$L_0 = \\frac{(x-x_1)(x-x_2)}{(x_0-x_1) (x_0-x_2)}$\n",
    "\n",
    "$L_1 = \\frac{(x-x_0)(x-x_2)}{(x_1-x_0) (x_1-x_2)}$\n",
    "\n",
    "$L_2 = \\frac{(x-x_0)(x-x_1)}{(x_2-x_0) (x_2-x_1)}$\n",
    "\n",
    "\n"
   ]
  },
  {
   "cell_type": "code",
   "execution_count": null,
   "metadata": {
    "collapsed": true
   },
   "outputs": [],
   "source": []
  },
  {
   "cell_type": "markdown",
   "metadata": {},
   "source": [
    "### Higher degree polynomial interpolation\n",
    "\n",
    "Equation of line is n degree polynomial. Get $n+1$ points $(x_0, y_0)$, $(x_1, y_1)$, ..., $(x_n, y_n)$\n",
    "\n",
    "* solution is \n",
    "\n",
    "$y = y_0 L_0(x) + y_1 L_1(x) + ... + y_n L_n(x)$ \n",
    "\n",
    "$L_0 = \\frac{(x-x_1)(x-x_2)\\, ... \\,(x-x_n)}{(x_0-x_1) (x_0-x_2) \\, ... \\, (x_0-x_n)}$\n",
    "\n",
    "$L_1 = \\frac{(x-x_0)(x-x_2)\\, ... \\,(x-x_n)}{(x_1-x_0) (x_1-x_2)\\, ... \\, (x_1-x_n)}$\n",
    "\n",
    ".\n",
    ".\n",
    ".\n",
    "\n"
   ]
  },
  {
   "cell_type": "code",
   "execution_count": null,
   "metadata": {
    "collapsed": true
   },
   "outputs": [],
   "source": []
  }
 ],
 "metadata": {
  "kernelspec": {
   "display_name": "Python 3",
   "language": "python",
   "name": "python3"
  },
  "language_info": {
   "codemirror_mode": {
    "name": "ipython",
    "version": 3
   },
   "file_extension": ".py",
   "mimetype": "text/x-python",
   "name": "python",
   "nbconvert_exporter": "python",
   "pygments_lexer": "ipython3",
   "version": "3.6.8"
  }
 },
 "nbformat": 4,
 "nbformat_minor": 2
}
