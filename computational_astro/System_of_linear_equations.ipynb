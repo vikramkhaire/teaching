{
 "cells": [
  {
   "cell_type": "markdown",
   "metadata": {},
   "source": [
    "# System of linear equations\n",
    "\n",
    "-Vikram Khaire; Date: September 06, 2021 "
   ]
  },
  {
   "cell_type": "markdown",
   "metadata": {},
   "source": [
    "### Gauss elimination method\n",
    "\n",
    "Let's start with an example \n",
    "    "
   ]
  },
  {
   "cell_type": "markdown",
   "metadata": {},
   "source": [
    "$x_0 + 2x_1 + 3x_2 = 5$\n",
    "\n",
    "$2 x_0 + x_1 + x_2 = 4$\n",
    "\n",
    "$ 3x_0 + 5 x_1 + 7 x_2 = 13$\n"
   ]
  },
  {
   "cell_type": "markdown",
   "metadata": {},
   "source": [
    "Ax = y where x = [x0, x1, x2]\n",
    "\n",
    "--for inversion\n",
    "A ? $= I$ \n",
    "\n",
    "what is ?  ==> $A^{-1}$"
   ]
  },
  {
   "cell_type": "code",
   "execution_count": 1,
   "metadata": {
    "collapsed": true
   },
   "outputs": [],
   "source": [
    "import numpy as np"
   ]
  },
  {
   "cell_type": "markdown",
   "metadata": {},
   "source": [
    "#### Create a augumented matrix.\n",
    "\n",
    "Number of unknowns are  = 3\n",
    "\n",
    "Dimension of augumented matrix  = (3,4) "
   ]
  },
  {
   "cell_type": "code",
   "execution_count": 2,
   "metadata": {
    "collapsed": true
   },
   "outputs": [],
   "source": [
    "# an augmented matrix with dimension ()\n",
    "A=np.array(([1., 2., 3., 5.],\n",
    "          [2., 1., 1., 4.],\n",
    "          [3., 5., 7., 13.]))\n"
   ]
  },
  {
   "cell_type": "code",
   "execution_count": 3,
   "metadata": {},
   "outputs": [
    {
     "data": {
      "text/plain": [
       "array([[ 1.,  2.,  3.,  5.],\n",
       "       [ 2.,  1.,  1.,  4.],\n",
       "       [ 3.,  5.,  7., 13.]])"
      ]
     },
     "execution_count": 3,
     "metadata": {},
     "output_type": "execute_result"
    }
   ],
   "source": [
    "A"
   ]
  },
  {
   "cell_type": "code",
   "execution_count": 4,
   "metadata": {},
   "outputs": [
    {
     "data": {
      "text/plain": [
       "(3, 4)"
      ]
     },
     "execution_count": 4,
     "metadata": {},
     "output_type": "execute_result"
    }
   ],
   "source": [
    "A.shape"
   ]
  },
  {
   "cell_type": "code",
   "execution_count": 5,
   "metadata": {},
   "outputs": [
    {
     "data": {
      "text/plain": [
       "13.0"
      ]
     },
     "execution_count": 5,
     "metadata": {},
     "output_type": "execute_result"
    }
   ],
   "source": [
    "A[2][3]"
   ]
  },
  {
   "cell_type": "markdown",
   "metadata": {},
   "source": [
    "#### First elimination :\n",
    "\n",
    "make A[1][0] = 0 and A[2][0] = 0"
   ]
  },
  {
   "cell_type": "markdown",
   "metadata": {},
   "source": [
    "second row --> multiply first row by 2 and subtract from second\n",
    "\n",
    "third row --> multiply first row by 3 and subtract from third"
   ]
  },
  {
   "cell_type": "markdown",
   "metadata": {},
   "source": [
    "row A[1] ==> row A[1] - A[1][0]/A[0][0] * row A[0]\n",
    "\n",
    "row A[2] ==> row A[2] - A[2][0]/A[0][0] * row A[0]"
   ]
  },
  {
   "cell_type": "code",
   "execution_count": 6,
   "metadata": {
    "collapsed": true
   },
   "outputs": [],
   "source": [
    "A[1] =  A[1] - A[1][0]/A[0][0] *A[0]\n",
    "\n",
    "\"\"\"\n",
    "for i in range(1, 4): # i is from 1 to 4  <== true?\n",
    "    A[1][i] =  A[1][i] - A[1][0]/A[0][0] *A[0][i]\n",
    "\"\"\"\n",
    "\n",
    "A[2] =  A[2] - A[2][0]/A[0][0] *A[0]"
   ]
  },
  {
   "cell_type": "code",
   "execution_count": 7,
   "metadata": {},
   "outputs": [
    {
     "data": {
      "text/plain": [
       "array([[ 1.,  2.,  3.,  5.],\n",
       "       [ 0., -3., -5., -6.],\n",
       "       [ 0., -1., -2., -2.]])"
      ]
     },
     "execution_count": 7,
     "metadata": {},
     "output_type": "execute_result"
    }
   ],
   "source": [
    "A"
   ]
  },
  {
   "cell_type": "markdown",
   "metadata": {},
   "source": [
    "#### Second elimination\n",
    "\n",
    "row A[2] ==> row A[2] - A[2][1]/A[1][1] * row A[1]"
   ]
  },
  {
   "cell_type": "code",
   "execution_count": 8,
   "metadata": {
    "collapsed": true
   },
   "outputs": [],
   "source": [
    "A[2] =  A[2] - A[2][1]/A[1][1] *A[1]"
   ]
  },
  {
   "cell_type": "code",
   "execution_count": 9,
   "metadata": {},
   "outputs": [
    {
     "data": {
      "text/plain": [
       "array([[ 1.        ,  2.        ,  3.        ,  5.        ],\n",
       "       [ 0.        , -3.        , -5.        , -6.        ],\n",
       "       [ 0.        ,  0.        , -0.33333333,  0.        ]])"
      ]
     },
     "execution_count": 9,
     "metadata": {},
     "output_type": "execute_result"
    }
   ],
   "source": [
    "A"
   ]
  },
  {
   "cell_type": "markdown",
   "metadata": {},
   "source": [
    "### Back substitution \n",
    "\n",
    "x2 = A[2][3]/A[2][2] \n",
    "\n",
    "x1 = (A[1][3] - x2 * A[1][2]) / A[1][1]\n",
    "\n",
    "x0 = (A[0][3]- x1 * A[0][1] - x2 * A[0][2]) / A[0][0]"
   ]
  },
  {
   "cell_type": "code",
   "execution_count": 10,
   "metadata": {
    "collapsed": true
   },
   "outputs": [],
   "source": [
    "x2 = A[2][3]/A[2][2] \n",
    "\n",
    "x1 = (A[1][3] - x2 * A[1][2])/A[1][1]\n",
    "\n",
    "x0 = (A[0][3] - x2 * A[0][2]- x1 * A[0][1])/A[0][0]"
   ]
  },
  {
   "cell_type": "code",
   "execution_count": 11,
   "metadata": {},
   "outputs": [
    {
     "name": "stdout",
     "output_type": "stream",
     "text": [
      "1.0 2.0 -0.0\n"
     ]
    }
   ],
   "source": [
    "print( x0, x1, x2) # our solution"
   ]
  },
  {
   "cell_type": "markdown",
   "metadata": {},
   "source": [
    "### Write a general code"
   ]
  },
  {
   "cell_type": "code",
   "execution_count": 12,
   "metadata": {
    "collapsed": true
   },
   "outputs": [],
   "source": [
    "B=np.array(([1., 2., 3., 5.],\n",
    "          [2., 1., 1., 4.],\n",
    "          [3., 5., 7., 13.]))"
   ]
  },
  {
   "cell_type": "code",
   "execution_count": 13,
   "metadata": {},
   "outputs": [
    {
     "name": "stdout",
     "output_type": "stream",
     "text": [
      "2.0\n",
      "3.0\n",
      "0.3333333333333333\n"
     ]
    }
   ],
   "source": [
    "# let's write pieces of code\n",
    "\n",
    "n = B.shape[0] # number of unknowns\n",
    "\n",
    "# gausss elimination\n",
    "for i in range(n):\n",
    "    for j in range(i+1, n):\n",
    "        ratio = B[j][i]/B[i][i]\n",
    "        print(ratio)\n",
    "        for k in range (n+1): # element by element assignment\n",
    "            B[j][k] = B[j][k] - ratio * B[i][k]\n",
    "    "
   ]
  },
  {
   "cell_type": "code",
   "execution_count": 14,
   "metadata": {
    "collapsed": true
   },
   "outputs": [],
   "source": [
    "C=np.array(([1., 2., 3., 5.],\n",
    "          [2., 1., 1., 4.],\n",
    "          [3., 5., 7., 13.]))\n",
    "\n",
    "B=np.array(([1., 2., 3., 5.],\n",
    "          [2., 1., 1., 4.],\n",
    "          [3., 5., 7., 13.]))"
   ]
  },
  {
   "cell_type": "code",
   "execution_count": 15,
   "metadata": {},
   "outputs": [
    {
     "name": "stdout",
     "output_type": "stream",
     "text": [
      "2.0\n",
      "3.0\n",
      "0.3333333333333333\n"
     ]
    }
   ],
   "source": [
    "\n",
    "n = C.shape[0] # number of unknowns\n",
    "\n",
    "# gausss elimination\n",
    "for i in range(n):\n",
    "    for j in range(i+1, n):\n",
    "        ratio = C[j][i]/C[i][i]\n",
    "        print(ratio)\n",
    "        C[j] = C[j]- ratio*C[i] # Churchil's suggestion\n"
   ]
  },
  {
   "cell_type": "code",
   "execution_count": 16,
   "metadata": {},
   "outputs": [
    {
     "data": {
      "text/plain": [
       "array([[ 1.        ,  2.        ,  3.        ,  5.        ],\n",
       "       [ 0.        , -3.        , -5.        , -6.        ],\n",
       "       [ 0.        ,  0.        , -0.33333333,  0.        ]])"
      ]
     },
     "execution_count": 16,
     "metadata": {},
     "output_type": "execute_result"
    }
   ],
   "source": [
    "C"
   ]
  },
  {
   "cell_type": "code",
   "execution_count": 23,
   "metadata": {},
   "outputs": [],
   "source": [
    "# back substitution\n",
    "solution = np.zeros(n)\n",
    "\n",
    "solution[n-1] = C[n-1][n]/ C[n-1][n-1]\n",
    "# x2 for perticular problem\n",
    "\n",
    "for i in range(n-2, -1, -1):\n",
    "    #i = 1 x= x1\n",
    "    solution[i]= A[i][n]\n",
    "    for j in range(i+1, n):\n",
    "        solution[i]=  solution[i]- solution[j]*C[i][j]\n",
    "        \n",
    "    # out of the for loop on j\n",
    "    solution[i]= solution[i]/C[i][i]\n",
    "    \n",
    "# just copying ....\n",
    "#x1 = (A[1][3] - x2 * A[1][2])/A[1][1]\n",
    "#x0 = (A[0][3] - x2 * A[0][2]- x1 * A[0][1])/A[0][0]"
   ]
  },
  {
   "cell_type": "code",
   "execution_count": 24,
   "metadata": {},
   "outputs": [
    {
     "data": {
      "text/plain": [
       "array([ 1.,  2., -0.])"
      ]
     },
     "execution_count": 24,
     "metadata": {},
     "output_type": "execute_result"
    }
   ],
   "source": [
    "solution"
   ]
  },
  {
   "cell_type": "code",
   "execution_count": 26,
   "metadata": {},
   "outputs": [
    {
     "name": "stdout",
     "output_type": "stream",
     "text": [
      "[ 1.  2. -0.]\n"
     ]
    }
   ],
   "source": [
    "# another way\n",
    "# back substitution\n",
    "solution = np.zeros(n)\n",
    "for i in range(n-1, -1, -1):\n",
    "    solution[i]= A[i][n]\n",
    "    for j in range(i+1, n):\n",
    "        solution[i]=  solution[i]- solution[j]*C[i][j]\n",
    "        \n",
    "    # out of the for loop on j\n",
    "    solution[i]= solution[i]/C[i][i]\n",
    "\n",
    "print(solution)"
   ]
  },
  {
   "cell_type": "code",
   "execution_count": 27,
   "metadata": {},
   "outputs": [],
   "source": [
    "# now write general function for Gauss-elimination method\n",
    "\n",
    "def gauss_eliminate(C):\n",
    "    \"\"\"\n",
    "    param C: Augumented matrix\n",
    "    returns : Augumented Upper triangular matrix & solution vector\n",
    "    \"\"\"\n",
    "    \n",
    "    n = C.shape[0] # number of unknowns\n",
    "    # gausss elimination\n",
    "    for i in range(n):\n",
    "        for j in range(i+1, n):\n",
    "            ratio = C[j][i]/C[i][i]\n",
    "            C[j] = C[j]- ratio*C[i] \n",
    "            \n",
    "    # back substitution\n",
    "    solution = np.zeros(n)\n",
    "    for i in range(n-1, -1, -1):\n",
    "        solution[i]= A[i][n]\n",
    "        for j in range(i+1, n):\n",
    "            solution[i]=  solution[i]- solution[j]*C[i][j]\n",
    "        \n",
    "        # out of the for loop on j\n",
    "        solution[i]= solution[i]/C[i][i]\n",
    "        \n",
    "        \n",
    "    return C, solution\n",
    "    "
   ]
  },
  {
   "cell_type": "code",
   "execution_count": 28,
   "metadata": {
    "collapsed": true
   },
   "outputs": [],
   "source": [
    "B=np.array(([1., 2., 3., 5.],\n",
    "          [2., 1., 1., 4.],\n",
    "          [3., 5., 7., 13.]))\n",
    "a, sol = gauss_eliminate(B)"
   ]
  },
  {
   "cell_type": "code",
   "execution_count": 31,
   "metadata": {},
   "outputs": [
    {
     "name": "stdout",
     "output_type": "stream",
     "text": [
      "[[ 1.          2.          3.          5.        ]\n",
      " [ 0.         -3.         -5.         -6.        ]\n",
      " [ 0.          0.         -0.33333333  0.        ]]\n",
      "[ 1.  2. -0.]\n"
     ]
    }
   ],
   "source": [
    "print(a)\n",
    "print(sol)"
   ]
  },
  {
   "cell_type": "markdown",
   "metadata": {},
   "source": [
    "#### Gauss-Jorden elimination method\n",
    "\n",
    "to make coefficient matrix = I (identity matrix)"
   ]
  },
  {
   "cell_type": "code",
   "execution_count": 39,
   "metadata": {},
   "outputs": [
    {
     "name": "stdout",
     "output_type": "stream",
     "text": [
      "x0= 1.0\n",
      "x1= 2.0\n",
      "x2= -0.0\n",
      "[[ 1.  0.  0.  1.]\n",
      " [-0.  1. -0.  2.]\n",
      " [-0. -0.  1. -0.]]\n"
     ]
    }
   ],
   "source": [
    "C=np.array(([1., 2., 3., 5.],\n",
    "          [2., 1., 1., 4.],\n",
    "          [3., 5., 7., 13.]))\n",
    "\n",
    "n = C.shape[0] # number of unknowns\n",
    "\n",
    "# gausss-jorden elimination\n",
    "for i in range(n):\n",
    "    for j in range(n):\n",
    "        if j!=i:\n",
    "            ratio = C[j][i]/C[i][i]\n",
    "            C[j] = C[j]- ratio*C[i]\n",
    "            \n",
    "# solution \n",
    "for i in range(n):\n",
    "    print('x{}='.format(i), C[i][n]/C[i][i])\n",
    "    \n",
    "# identity matrix\n",
    "\n",
    "for i in range(n):\n",
    "    C[i] = C[i]/C[i][i] \n",
    "\n",
    "print(C)"
   ]
  },
  {
   "cell_type": "code",
   "execution_count": 57,
   "metadata": {
    "collapsed": true
   },
   "outputs": [],
   "source": [
    "# writing general code for Gauss-Jorden elimination \n",
    "\n",
    "def gauss_jorden_eliminate(C):\n",
    "    \"\"\"\n",
    "    param C: Augumented matrix\n",
    "    returns : Augumneted identity matrix & solution vector\n",
    "    \"\"\"\n",
    "    \n",
    "    n = C.shape[0] # number of unknowns\n",
    "\n",
    "    # gausss-jorden elimination\n",
    "    for i in range(n):\n",
    "        for j in range(n):\n",
    "            if j!=i:\n",
    "                ratio = C[j][i]/C[i][i]\n",
    "                C[j] = C[j]- ratio*C[i]\n",
    "\n",
    "    # identity matrix\n",
    "    for i in range(n):\n",
    "        C[i] = C[i]/C[i][i] \n",
    "        \n",
    "    return C, C[:, n]\n",
    "\n",
    "#see why C[:,n] is differnet than C[:][n]"
   ]
  },
  {
   "cell_type": "code",
   "execution_count": 58,
   "metadata": {},
   "outputs": [
    {
     "name": "stdout",
     "output_type": "stream",
     "text": [
      "[[ 1.  0.  0.  1.]\n",
      " [-0.  1. -0.  2.]\n",
      " [-0. -0.  1. -0.]]\n",
      "[ 1.  2. -0.]\n"
     ]
    }
   ],
   "source": [
    "B=np.array(([1., 2., 3., 5.],\n",
    "          [2., 1., 1., 4.],\n",
    "          [3., 5., 7., 13.]))\n",
    "a, sol = gauss_jorden_eliminate(B)\n",
    "print(a)\n",
    "print(sol)"
   ]
  },
  {
   "cell_type": "markdown",
   "metadata": {},
   "source": [
    "### Matrix inversion \n",
    "\n",
    "$A A^{-1} = I$"
   ]
  },
  {
   "cell_type": "code",
   "execution_count": 75,
   "metadata": {
    "collapsed": true
   },
   "outputs": [],
   "source": [
    "# find inverse of this matrix\n",
    "B=np.array(([1., 2., 3.],\n",
    "          [2., 1., 1.],\n",
    "          [3., 5., 7.]))"
   ]
  },
  {
   "cell_type": "code",
   "execution_count": 76,
   "metadata": {},
   "outputs": [],
   "source": [
    "# write pieces of codes\n",
    "# crete auguemented matrix\n",
    "n = B.shape[0]\n",
    "\n",
    "#intialize auguemented matrix\n",
    "C= np.zeros((n, 2*n))\n",
    "\n",
    "for i in range(n): #rows\n",
    "    for j in range (2*n):\n",
    "        if j <n:\n",
    "            C[i][j]= B[i][j]\n",
    "        elif j == (i+n): \n",
    "            C[i][j] = 1"
   ]
  },
  {
   "cell_type": "code",
   "execution_count": 77,
   "metadata": {},
   "outputs": [],
   "source": [
    "# gauss-jorden elimination (copying from above cells)\n",
    "for i in range(n):\n",
    "    for j in range(n):\n",
    "        if j!=i:\n",
    "            ratio = C[j][i]/C[i][i]\n",
    "            C[j] = C[j]- ratio*C[i]\n",
    "            \n",
    "# identity matrix\n",
    "for i in range(n):\n",
    "    C[i] = C[i]/C[i][i] \n"
   ]
  },
  {
   "cell_type": "code",
   "execution_count": 78,
   "metadata": {},
   "outputs": [
    {
     "data": {
      "text/plain": [
       "array([[  1.,   0.,   0.,   2.,   1.,  -1.],\n",
       "       [ -0.,   1.,  -0., -11.,  -2.,   5.],\n",
       "       [ -0.,  -0.,   1.,   7.,   1.,  -3.]])"
      ]
     },
     "execution_count": 78,
     "metadata": {},
     "output_type": "execute_result"
    }
   ],
   "source": [
    "C"
   ]
  },
  {
   "cell_type": "code",
   "execution_count": 79,
   "metadata": {},
   "outputs": [
    {
     "data": {
      "text/plain": [
       "array([[  2.,   1.,  -1.],\n",
       "       [-11.,  -2.,   5.],\n",
       "       [  7.,   1.,  -3.]])"
      ]
     },
     "execution_count": 79,
     "metadata": {},
     "output_type": "execute_result"
    }
   ],
   "source": [
    "# print inverse matrix\n",
    "C[:, n:]"
   ]
  },
  {
   "cell_type": "code",
   "execution_count": 80,
   "metadata": {},
   "outputs": [
    {
     "data": {
      "text/plain": [
       "array([[  2.,   1.,  -1.],\n",
       "       [-11.,  -2.,   5.],\n",
       "       [  7.,   1.,  -3.]])"
      ]
     },
     "execution_count": 80,
     "metadata": {},
     "output_type": "execute_result"
    }
   ],
   "source": [
    "# custom function\n",
    "from numpy.linalg import inv\n",
    "inv(B)"
   ]
  },
  {
   "cell_type": "code",
   "execution_count": 82,
   "metadata": {
    "collapsed": true
   },
   "outputs": [],
   "source": [
    "# write a general function\n",
    "\n",
    "def matrix_inversion(B):\n",
    "    \"\"\"\n",
    "    param B: nxn matrix (with det(B)!=0)\n",
    "    returns : inverse of B\n",
    "    \"\"\"\n",
    "    \n",
    "    # crete auguemented matrix\n",
    "    n = B.shape[0]\n",
    "\n",
    "    #intialize auguemented matrix\n",
    "    C= np.zeros((n, 2*n))\n",
    "\n",
    "    for i in range(n): #rows\n",
    "        if C[i][i]==0:\n",
    "            print('ohohoho..... diagonal emelment is zero!')\n",
    "            break\n",
    "        \n",
    "        for j in range (2*n):\n",
    "            if j <n:\n",
    "                C[i][j]= B[i][j]\n",
    "            elif j == (i+n): \n",
    "                C[i][j] = 1\n",
    "    \n",
    "    # gauss-jorden elimination \n",
    "    for i in range(n):\n",
    "        for j in range(n):\n",
    "            if j!=i:\n",
    "                ratio = C[j][i]/C[i][i]\n",
    "                C[j] = C[j]- ratio*C[i]\n",
    "\n",
    "    # identity matrix\n",
    "    for i in range(n):\n",
    "        C[i] = C[i]/C[i][i] \n",
    "        \n",
    "    return C[:, n:]\n"
   ]
  },
  {
   "cell_type": "code",
   "execution_count": null,
   "metadata": {
    "collapsed": true
   },
   "outputs": [],
   "source": []
  }
 ],
 "metadata": {
  "kernelspec": {
   "display_name": "Python 3",
   "language": "python",
   "name": "python3"
  },
  "language_info": {
   "codemirror_mode": {
    "name": "ipython",
    "version": 3
   },
   "file_extension": ".py",
   "mimetype": "text/x-python",
   "name": "python",
   "nbconvert_exporter": "python",
   "pygments_lexer": "ipython3",
   "version": "3.6.8"
  }
 },
 "nbformat": 4,
 "nbformat_minor": 2
}
