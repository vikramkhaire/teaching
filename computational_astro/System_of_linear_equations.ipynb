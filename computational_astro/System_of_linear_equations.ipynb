{
 "cells": [
  {
   "cell_type": "markdown",
   "metadata": {},
   "source": [
    "# System of linear equations\n",
    "\n",
    "-Vikram Khaire; Date: September 06, 2021 "
   ]
  },
  {
   "cell_type": "markdown",
   "metadata": {},
   "source": [
    "### Gauss elimination method\n",
    "\n",
    "Let's start with an example \n",
    "    "
   ]
  },
  {
   "cell_type": "markdown",
   "metadata": {},
   "source": [
    "$x_0 + 2x_1 + 3x2 = 5$\n",
    "\n",
    "$2 x_0 + x_1 + x_2 = 4$\n",
    "\n",
    "$ 3x_0 + 5 x_1 + 7 x_2 = 13$\n"
   ]
  },
  {
   "cell_type": "code",
   "execution_count": 1,
   "metadata": {
    "collapsed": true
   },
   "outputs": [],
   "source": [
    "import numpy as np"
   ]
  },
  {
   "cell_type": "markdown",
   "metadata": {},
   "source": [
    "#### Create a augumented matrix.\n",
    "\n",
    "Number of unknowns are  = ?\n",
    "\n",
    "Dimension of augumented matrix  = ? "
   ]
  },
  {
   "cell_type": "code",
   "execution_count": 2,
   "metadata": {},
   "outputs": [],
   "source": [
    "# an augmented matrix with dimension ()\n",
    "A=np.array(([1., 2., 3., 5.],\n",
    "          [2., 1., 1., 4.],\n",
    "          [3., 5., 7., 13.]))\n"
   ]
  },
  {
   "cell_type": "markdown",
   "metadata": {},
   "source": [
    "#### First elimination :\n",
    "\n",
    "make A[1][0] = 0 and A[2][0] = 0"
   ]
  },
  {
   "cell_type": "markdown",
   "metadata": {},
   "source": [
    "multiply first row by ? and subtract from second\n",
    "\n",
    "multiply first row by ? and subtract from third"
   ]
  },
  {
   "cell_type": "markdown",
   "metadata": {},
   "source": [
    "row A[1] ==> row A[1] - A[1][0]/A[0][0] * row A[0]\n",
    "\n",
    "row A[2] ==> row A[2] - A[2][0]/A[0][0] * row A[0]"
   ]
  },
  {
   "cell_type": "code",
   "execution_count": 3,
   "metadata": {},
   "outputs": [],
   "source": [
    "A[1] =  A[1] - A[1][0]/A[0][0] *A[0]\n",
    "A[2] =  A[2] - A[2][0]/A[0][0] *A[0]"
   ]
  },
  {
   "cell_type": "code",
   "execution_count": 4,
   "metadata": {},
   "outputs": [
    {
     "data": {
      "text/plain": [
       "array([[ 1.,  2.,  3.,  5.],\n",
       "       [ 0., -3., -5., -6.],\n",
       "       [ 0., -1., -2., -2.]])"
      ]
     },
     "execution_count": 4,
     "metadata": {},
     "output_type": "execute_result"
    }
   ],
   "source": [
    "A"
   ]
  },
  {
   "cell_type": "markdown",
   "metadata": {},
   "source": [
    "#### Second elimination\n",
    "\n",
    "row A[2] ==> row A[2] - A[2][1]/A[1][1] * row A[1]"
   ]
  },
  {
   "cell_type": "code",
   "execution_count": 5,
   "metadata": {
    "collapsed": true
   },
   "outputs": [],
   "source": [
    "A[2] =  A[2] - A[2][1]/A[1][1] *A[1]"
   ]
  },
  {
   "cell_type": "markdown",
   "metadata": {},
   "source": [
    "### Back substitution \n",
    "\n",
    "x2 = A[2][3]/A[2][2] \n",
    "\n",
    "x1 = (A[1][3] - x2 * A[1][2])/A[1][1]\n",
    "\n",
    "x0 = (A[0][3]- x1 * A[0][1] - x2 * A[0][2])/A[0][0]"
   ]
  },
  {
   "cell_type": "code",
   "execution_count": 6,
   "metadata": {},
   "outputs": [],
   "source": [
    "x2 = A[2][3]/A[2][2] \n",
    "\n",
    "x1 = (A[1][3] - x2 * A[1][2])/A[1][1]\n",
    "\n",
    "x0 = (A[0][3]- x1 * A[0][1] - x2 * A[0][2])/A[0][0]"
   ]
  },
  {
   "cell_type": "code",
   "execution_count": 7,
   "metadata": {},
   "outputs": [
    {
     "name": "stdout",
     "output_type": "stream",
     "text": [
      "1.0 2.0 -0.0\n"
     ]
    }
   ],
   "source": [
    "print( x0, x1, x2) # our solution"
   ]
  },
  {
   "cell_type": "markdown",
   "metadata": {},
   "source": [
    "### Write a general code"
   ]
  },
  {
   "cell_type": "code",
   "execution_count": 8,
   "metadata": {
    "collapsed": true
   },
   "outputs": [],
   "source": [
    "B=np.array(([1., 2., 3., 5.],\n",
    "          [2., 1., 1., 4.],\n",
    "          [3., 5., 7., 13.]))"
   ]
  },
  {
   "cell_type": "code",
   "execution_count": null,
   "metadata": {
    "collapsed": true
   },
   "outputs": [],
   "source": []
  }
 ],
 "metadata": {
  "kernelspec": {
   "display_name": "Python 3",
   "language": "python",
   "name": "python3"
  },
  "language_info": {
   "codemirror_mode": {
    "name": "ipython",
    "version": 3
   },
   "file_extension": ".py",
   "mimetype": "text/x-python",
   "name": "python",
   "nbconvert_exporter": "python",
   "pygments_lexer": "ipython3",
   "version": "3.6.8"
  }
 },
 "nbformat": 4,
 "nbformat_minor": 2
}
