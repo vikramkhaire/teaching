{
 "cells": [
  {
   "cell_type": "markdown",
   "metadata": {},
   "source": [
    "# Integration\n",
    "\n",
    "date 28 Sept 2021\n"
   ]
  },
  {
   "cell_type": "code",
   "execution_count": null,
   "metadata": {
    "collapsed": true
   },
   "outputs": [],
   "source": [
    "%matplotlib notebook\n",
    "import numpy as np\n",
    "import matplotlib.pyplot as plt"
   ]
  },
  {
   "cell_type": "code",
   "execution_count": null,
   "metadata": {
    "collapsed": true
   },
   "outputs": [],
   "source": [
    "# create a data\n",
    "def function_poly(x):\n",
    "    y = x**3 - x**2 + x + 1  # choose your function\n",
    "    return y"
   ]
  },
  {
   "cell_type": "code",
   "execution_count": null,
   "metadata": {
    "collapsed": true
   },
   "outputs": [],
   "source": [
    "# descrete data points\n",
    "x = np.arange(-2000, 2001)*0.001\n",
    "y = function_poly(x)"
   ]
  },
  {
   "cell_type": "code",
   "execution_count": null,
   "metadata": {},
   "outputs": [],
   "source": [
    "x"
   ]
  },
  {
   "cell_type": "code",
   "execution_count": null,
   "metadata": {},
   "outputs": [],
   "source": [
    "y"
   ]
  },
  {
   "cell_type": "code",
   "execution_count": null,
   "metadata": {},
   "outputs": [],
   "source": [
    "# plot the data\n",
    "plt.plot(x, y, c = 'b')\n",
    "plt.axhline(0, ls =':')\n",
    "plt.show()"
   ]
  },
  {
   "cell_type": "code",
   "execution_count": null,
   "metadata": {},
   "outputs": [],
   "source": [
    "plt.figure()\n",
    "# plot the data\n",
    "plt.plot(x, y, c = 'b')\n",
    "plt.plot([-1, -1], [function_poly(-1), 0], color = 'r')\n",
    "plt.plot([1, 1], [function_poly(1), 0], color = 'r')\n",
    "x_new =np.arange(-10, 11)*0.1\n",
    "y_new = function_poly(x_new)\n",
    "plt.fill_between(x_new, 0, y_new, color = 'g', alpha = 0.4)\n",
    "plt.axhline(0, ls =':')\n",
    "plt.show()"
   ]
  },
  {
   "cell_type": "code",
   "execution_count": null,
   "metadata": {},
   "outputs": [],
   "source": [
    "plt.figure()\n",
    "# plot the data\n",
    "plt.plot(x, y, c = 'b')\n",
    "x_new =np.arange(-10, 11)*0.1\n",
    "y_new = function_poly(x_new)\n",
    "for x0, y0 in zip(x_new, y_new):\n",
    "    plt.plot([x0, x0], [y0, 0], color = 'r')\n",
    "\n",
    "plt.fill_between(x_new, 0, y_new, color = 'g', alpha = 0.4)\n",
    "plt.axhline(0, ls =':')\n",
    "plt.show()"
   ]
  },
  {
   "cell_type": "code",
   "execution_count": null,
   "metadata": {
    "collapsed": true
   },
   "outputs": [],
   "source": []
  },
  {
   "cell_type": "markdown",
   "metadata": {},
   "source": [
    "## Newton-cotes methods\n",
    "\n",
    "### 1) Rectangualr method\n",
    "\n",
    "Draw rectangles. Count area.\n",
    "\n",
    "$\\int_{a}^{b}{f(x)dx} \\approx (b-a)f\\big((a+b)/2 \\big)$\n",
    "\n",
    "### 2) Trapazoidal rule\n",
    "\n",
    "Draw trapezoids. Cound area. Equivalent to linear interpolation from point a to b.\n",
    "\n",
    "$\\int_{a}^{b}{f(x)dx} \\approx (b-a)(f(a)+f(b))/2$\n",
    "\n",
    "### 3) Simpson's rule (1/3rd)\n",
    "\n",
    "Approximate function using quadratic function (i.e 2 degree polynomial).\n",
    "\n",
    "$\\int_{a}^{b}{f(x)dx} \\approx \\frac{(b-a)}{6}\\Big[f(a)+4f\\big(\\frac{(a+b)}{2}\\big) + f(b)\\Big]$\n",
    "\n",
    "\n"
   ]
  },
  {
   "cell_type": "code",
   "execution_count": null,
   "metadata": {
    "collapsed": true
   },
   "outputs": [],
   "source": []
  },
  {
   "cell_type": "markdown",
   "metadata": {
    "collapsed": true
   },
   "source": [
    "<img src=\"wiki.png\">"
   ]
  },
  {
   "cell_type": "code",
   "execution_count": null,
   "metadata": {
    "collapsed": true
   },
   "outputs": [],
   "source": []
  }
 ],
 "metadata": {
  "kernelspec": {
   "display_name": "Python 3",
   "language": "python",
   "name": "python3"
  },
  "language_info": {
   "codemirror_mode": {
    "name": "ipython",
    "version": 3
   },
   "file_extension": ".py",
   "mimetype": "text/x-python",
   "name": "python",
   "nbconvert_exporter": "python",
   "pygments_lexer": "ipython3",
   "version": "3.6.8"
  }
 },
 "nbformat": 4,
 "nbformat_minor": 2
}
