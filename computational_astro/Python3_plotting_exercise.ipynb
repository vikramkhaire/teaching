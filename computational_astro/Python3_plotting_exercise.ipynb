{
 "cells": [
  {
   "cell_type": "markdown",
   "metadata": {},
   "source": [
    "# Python Plotting"
   ]
  },
  {
   "cell_type": "markdown",
   "metadata": {},
   "source": [
    "* Basic line and scatter plots"
   ]
  },
  {
   "cell_type": "code",
   "execution_count": null,
   "metadata": {
    "collapsed": true
   },
   "outputs": [],
   "source": [
    "#%matplotlib inline\n"
   ]
  },
  {
   "cell_type": "code",
   "execution_count": null,
   "metadata": {},
   "outputs": [],
   "source": [
    "x=[1,2,3,4,5,6]\n",
    "y=[1,4,9, 16, 25, 36]\n",
    "import matplotlib.pyplot as plt\n",
    "plt.plot(x, y)  #line plot\n",
    "plt.show()"
   ]
  },
  {
   "cell_type": "markdown",
   "metadata": {},
   "source": [
    "Note: if you do not want to use plot.show() then write\n",
    "\n",
    "%matplotlib inline\n",
    "\n",
    "as a first code line in this doc    \n",
    "    "
   ]
  },
  {
   "cell_type": "code",
   "execution_count": null,
   "metadata": {},
   "outputs": [],
   "source": [
    "plt.scatter(x, y)  #line plot\n",
    "plt.show()"
   ]
  },
  {
   "cell_type": "code",
   "execution_count": null,
   "metadata": {},
   "outputs": [],
   "source": [
    "import numpy as np\n",
    "x=np.random.normal(1.75, 0.2, 1000)\n",
    "y=np.random.normal(65, 25, 1000)\n",
    "plt.scatter(x, y)  #scatter plot\n",
    "plt.show()"
   ]
  },
  {
   "cell_type": "code",
   "execution_count": null,
   "metadata": {},
   "outputs": [],
   "source": [
    "z=np.arange(1000)\n",
    "plt.scatter(z, y)\n",
    "plt.show()"
   ]
  },
  {
   "cell_type": "markdown",
   "metadata": {},
   "source": [
    "* Basic custamization"
   ]
  },
  {
   "cell_type": "code",
   "execution_count": null,
   "metadata": {},
   "outputs": [],
   "source": [
    "import matplotlib.pyplot as plt\n",
    "z=np.arange(1000)\n",
    "plt.scatter(z, y, c='red', s=60.0, linewidths=2, alpha=0.3)\n",
    "\n",
    "plt.title('random plot')\n",
    "plt.xlabel('x in sec')\n",
    "plt.ylabel('arrived photons')\n",
    "\n",
    "plt.yticks([0, 30, 60, 90, 120, 150])\n",
    "plt.axis([0, 1000, 0.0, 160])\n",
    "\n",
    "#plt.grid(True)\n",
    "\n",
    "plt.show()"
   ]
  },
  {
   "cell_type": "code",
   "execution_count": null,
   "metadata": {},
   "outputs": [],
   "source": [
    "import matplotlib.pyplot as plt\n",
    "z=np.arange(1000)\n",
    "plt.scatter(z, y, c='red', s=60.0, linewidths=2, alpha=0.3)\n",
    "\n",
    "plt.title('random plot')\n",
    "plt.xlabel('x in sec')\n",
    "plt.ylabel('arrived photons')\n",
    "\n",
    "plt.yticks([0, 30, 60, 90, 120, 150], ['y1','y2', 'y3', 'y4', 'y5', 'y6' ])\n",
    "\n",
    "plt.grid(True)\n",
    "\n",
    "plt.show()"
   ]
  },
  {
   "cell_type": "code",
   "execution_count": null,
   "metadata": {},
   "outputs": [],
   "source": [
    "import matplotlib.pyplot as plt\n",
    "\n",
    "plt.hist(x, bins=15, color='g', alpha=0.75 )\n",
    "\n",
    "plt.title('random histogram plot')\n",
    "\n",
    "plt.show()"
   ]
  },
  {
   "cell_type": "code",
   "execution_count": null,
   "metadata": {},
   "outputs": [],
   "source": [
    "import matplotlib.pyplot as plt\n",
    "plt.hist(x, bins=16, color='m', alpha=0.75, density=True)\n",
    "plt.title('random histogram plot')\n",
    "#plt.yticks([0, 0.3, 0.6, 0.9, 1.20, 1.50], ['y1','y2', 'y3', 'y4', 'y5', 'y6' ])\n",
    "plt.grid(True)\n",
    "plt.show()"
   ]
  },
  {
   "cell_type": "code",
   "execution_count": null,
   "metadata": {},
   "outputs": [],
   "source": [
    "import matplotlib.pyplot as plt\n",
    "z=np.arange(1000)\n",
    "plt.hist(x, bins=16, color='y', alpha=0.75, density=True)\n",
    "\n",
    "plt.title('random histogram plot')\n",
    "plt.yscale('log')\n",
    "#plt.yticks([0, 30, 60, 90, 120, 150], ['y1','y2', 'y3', 'y4', 'y5', 'y6' ])\n",
    "#plt.grid(True)\n",
    "plt.axis([1.0, 2.5, 0.01, 3.0])\n",
    "\n",
    "plt.show()"
   ]
  },
  {
   "cell_type": "markdown",
   "metadata": {
    "collapsed": true
   },
   "source": [
    "An interesting resources for plotting in python:\n",
    "https://www.machinelearningplus.com/plots/top-50-matplotlib-visualizations-the-master-plots-python/\n",
    "\n",
    "Also you may fine seaborne library very interesting for quick dignostic plotting of data"
   ]
  },
  {
   "cell_type": "code",
   "execution_count": null,
   "metadata": {
    "collapsed": true
   },
   "outputs": [],
   "source": []
  }
 ],
 "metadata": {
  "kernelspec": {
   "display_name": "Python 3",
   "language": "python",
   "name": "python3"
  },
  "language_info": {
   "codemirror_mode": {
    "name": "ipython",
    "version": 3
   },
   "file_extension": ".py",
   "mimetype": "text/x-python",
   "name": "python",
   "nbconvert_exporter": "python",
   "pygments_lexer": "ipython3",
   "version": "3.6.8"
  }
 },
 "nbformat": 4,
 "nbformat_minor": 2
}
