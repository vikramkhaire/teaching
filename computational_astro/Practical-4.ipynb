{
 "cells": [
  {
   "cell_type": "markdown",
   "metadata": {},
   "source": []
  },
  {
   "cell_type": "markdown",
   "metadata": {},
   "source": [
    "# Practical 4\n",
    "\n",
    "Week 4: 13 September - 17 September, 2021\n",
    "\n",
    "System of linear equations, factorization methods, eigenvalues and eigenvectors\n",
    "\n",
    "-----------------------"
   ]
  },
  {
   "cell_type": "markdown",
   "metadata": {},
   "source": [
    "### Example 1 : Factorization methods\n",
    "\n",
    "Write general codes for solving the system of equation using three factorization methods \n",
    "\n",
    "A) Crout's method\n",
    "\n",
    "B) Dolittle's method\n",
    "\n",
    "C) Cholskey's method\n",
    "\n",
    "Use those functions on following sets of equations:\n",
    "\n",
    "$3x_0 + 4x_1 + 5x_2 = 13$\n",
    "\n",
    "$x_0 + 2x_1 + x_2 = 4$\n",
    "\n",
    "$5x_0 + 6x_1 + x_2 = 14$\n",
    "\n",
    "\n",
    "------------------"
   ]
  },
  {
   "cell_type": "code",
   "execution_count": null,
   "metadata": {
    "collapsed": true
   },
   "outputs": [],
   "source": []
  },
  {
   "cell_type": "markdown",
   "metadata": {},
   "source": [
    "### Example 2 : Partial pivoting\n",
    "\n",
    "Modify the Gauss-Jorden elimination code written in the class for partial pivoting method. \n",
    "\n",
    "A) Try it on following system of equations.  \n",
    "\n",
    "$4x_1 + 5x_2 = 7$\n",
    "\n",
    "$x_0 + 2x_1 + x_2 = 4$\n",
    "\n",
    "$5x_0 + 6x_1 + x_2 = 14$\n",
    "\n",
    "B) Try it on following system of equations and check the difference in answer withoud pivoting.\n",
    "\n",
    "$x_0 + 10^4 x_1 + x_2 = 10^4$\n",
    "\n",
    "$10^5x_0 + 2x_1 + x_2 = 10^5$\n",
    "\n",
    "$x_0 + x_1 + 2x_2 = 4$\n",
    "\n",
    "(see an example of partial pivoting : https://web.mit.edu/10.001/Web/Course_Notes/GaussElimPivoting.html)\n",
    "\n",
    "------------------"
   ]
  },
  {
   "cell_type": "code",
   "execution_count": null,
   "metadata": {
    "collapsed": true
   },
   "outputs": [],
   "source": []
  },
  {
   "cell_type": "markdown",
   "metadata": {},
   "source": [
    "### Example 3 : Power iteration for finding eigenvectors and eigenvalues\n",
    "\n",
    "Write a general code for finding a dominant eigenvector and eigenvalue of a matrix using the power iteration method described below. Create a $3 \\times 3$ matrix and use the method on it. Check your answer with the standard functions and comment on the differences if any. \n",
    "\n",
    "* Power iteration : \n",
    "\n",
    "If a $n \\times n$ matrix has a dominant eigenvalue i.e,\n",
    "\n",
    "$|\\lambda_1| > |\\lambda_i|$ for $i = 2, 3, ..., n $\n",
    "\n",
    "then the following algorithm can find the dominant eigenvector for it. \n",
    "\n",
    "Choose an initial non-zero $\\vec {x_0}$ for one of the dominant eigenvectors of matrix $A$. \n",
    "\n",
    "Then calculate series of vectors:  \n",
    "\n",
    "$\\vec {x_1} =  A \\vec{x_0}$\n",
    "\n",
    "(normalize $\\vec {x_1}$)\n",
    "\n",
    "$\\vec {x_2} =  A \\vec{x_1} = A^2 \\vec{x_0}$\n",
    "\n",
    "(normalize $\\vec {x_2}$)\n",
    "\n",
    "$\\vec {x_k} =  A^k \\vec{x_0}$\n",
    "\n",
    "(normalize $\\vec {x_k}$)\n",
    "\n",
    "\n",
    "For large number $k$ you can get approximate eigenvector $\\vec {x_k}$. The only issue is $\\vec {x_k}$ will be a scaled-up version of the dominant eigenvector. To scale it down, after every step one can normalize the vector $\\vec {x_i}$ (as indicated in the algorithm above). One such normalization is by dividing $x_i$ by its largest absolute component.\n",
    "\n",
    "Once you find eigenvector you can use the Rayleigh quotient to find Rayleigh quotient:\n",
    "\n",
    "If $\\vec {x}$ is an eigenvector of a matrix A, then its Rayleigh quotient is given by\n",
    "\n",
    "$\\lambda = \\frac{A\\vec{x} \\cdot \\vec{x}}{\\vec{x} \\cdot \\vec{x}}$\n",
    "\n",
    "----------------"
   ]
  },
  {
   "cell_type": "code",
   "execution_count": null,
   "metadata": {
    "collapsed": true
   },
   "outputs": [],
   "source": []
  }
 ],
 "metadata": {
  "kernelspec": {
   "display_name": "Python 3",
   "language": "python",
   "name": "python3"
  },
  "language_info": {
   "codemirror_mode": {
    "name": "ipython",
    "version": 3
   },
   "file_extension": ".py",
   "mimetype": "text/x-python",
   "name": "python",
   "nbconvert_exporter": "python",
   "pygments_lexer": "ipython3",
   "version": "3.6.8"
  }
 },
 "nbformat": 4,
 "nbformat_minor": 2
}
